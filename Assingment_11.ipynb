{
 "cells": [
  {
   "cell_type": "code",
   "execution_count": 13,
   "metadata": {},
   "outputs": [],
   "source": [
    "from langchain.chat_models import ChatOpenAI\n",
    "from langchain.prompts import ChatPromptTemplate,FewShotChatMessagePromptTemplate\n",
    "from langchain.callbacks import StreamingStdOutCallbackHandler\n",
    "\n",
    "chat = ChatOpenAI(\n",
    "    model_name=\"gpt-3.5-turbo\"\n",
    "    , streaming=True\n",
    "    , callbacks=[\n",
    "        StreamingStdOutCallbackHandler()\n",
    "    ]\n",
    ")"
   ]
  },
  {
   "cell_type": "code",
   "execution_count": 14,
   "metadata": {},
   "outputs": [],
   "source": [
    "\n",
    "examples = [\n",
    "    {\n",
    "        \"movie\": \"Who lived longer, Muhammad Ali or Alan Turing?\",\n",
    "        \"answer\": \"\"\"\n",
    "        **영화 제목:** Inception\n",
    "        **감독:** Christopher Nolan\n",
    "        **주요 출연진:** Leonardo DiCaprio, Joseph Gordon-Levitt, Ellen Page, Tom Hardy\n",
    "        **예산:** $160 million\n",
    "        **흥행 수익:** $829.9 million\n",
    "        **장르:** Science Fiction, Action, Thriller\n",
    "        **간단한 시놉시스:** \n",
    "        꿈속의 꿈에 들어가 타인의 무의식에 아이디어를 심는 작업을 전문으로 하는 도미닉 코브와 그의 팀이 한 마지막 작업을 성공시키기 위해 벌어지는 이야기를 그린 영화입니다.\n",
    "        \"\"\"\n",
    "    },\n",
    "    {\n",
    "        \"movie\": \"Titanic\",\n",
    "        \"answer\": \"\"\"\n",
    "        **영화 제목:** Titanic\n",
    "        **감독:** James Cameron\n",
    "        **주요 출연진:** Leonardo DiCaprio, Kate Winslet, Billy Zane, Kathy Bates\n",
    "        **예산:** $200 million\n",
    "        **흥행 수익:** $2.202 billion\n",
    "        **장르:** Romance, Drama, Disaster\n",
    "        **간단한 시놉시스:** \n",
    "        1912년 타이타닉 호의 침몰을 배경으로, 사회적 신분 차이를 뛰어넘은 두 연인, 잭과 로즈의 비극적인 사랑 이야기를 그린 영화입니다.\n",
    "        \"\"\"\n",
    "    }\n",
    "]\n",
    "\n",
    "example_prompt = ChatPromptTemplate.from_messages(\n",
    "    [\n",
    "        (\"human\", \"{movie}\")\n",
    "        , (\"ai\", \"{answer}\")\n",
    "    ]\n",
    ")\n",
    "\n",
    "example_prompt = FewShotChatMessagePromptTemplate(\n",
    "    example_prompt = example_prompt\n",
    "    , examples = examples\n",
    ")\n",
    "\n"
   ]
  },
  {
   "cell_type": "code",
   "execution_count": 15,
   "metadata": {},
   "outputs": [
    {
     "name": "stdout",
     "output_type": "stream",
     "text": [
      "\n",
      "        **영화 제목:** Deadpool\n",
      "        **감독:** Tim Miller\n",
      "        **주요 출연진:** Ryan Reynolds, Morena Baccarin, Ed Skrein, T.J. Miller\n",
      "        **예산:** $58 million\n",
      "        **흥행 수익:** $783.1 million\n",
      "        **장르:** Action, Comedy, Adventure\n",
      "        **간단한 시놉시스:** \n",
      "        전 세계에서 유명한 용병인 웨이드 윌슨이 암을 진단 받고 실험적인 치료를 받게 되면서, 특별한 힘과 무적의 체력을 얻게 되고, 데드풀로 변신하여 복수를 다짐하는 이야기를 그린 영화입니다.\n",
      "        "
     ]
    },
    {
     "data": {
      "text/plain": [
       "AIMessageChunk(content='\\n        **영화 제목:** Deadpool\\n        **감독:** Tim Miller\\n        **주요 출연진:** Ryan Reynolds, Morena Baccarin, Ed Skrein, T.J. Miller\\n        **예산:** $58 million\\n        **흥행 수익:** $783.1 million\\n        **장르:** Action, Comedy, Adventure\\n        **간단한 시놉시스:** \\n        전 세계에서 유명한 용병인 웨이드 윌슨이 암을 진단 받고 실험적인 치료를 받게 되면서, 특별한 힘과 무적의 체력을 얻게 되고, 데드풀로 변신하여 복수를 다짐하는 이야기를 그린 영화입니다.\\n        ')"
      ]
     },
     "execution_count": 15,
     "metadata": {},
     "output_type": "execute_result"
    }
   ],
   "source": [
    "final_prompt = ChatPromptTemplate.from_messages([\n",
    "     (\"system\", \"영화 정보를 많이 알고 있고 제목에 따른 정보를 모두 알려줘야해\")\n",
    "     , example_prompt\n",
    "     , (\"human\", \"{movie}에 대한 정보 알려줘\")\n",
    "])\n",
    "\n",
    "chain = final_prompt | chat\n",
    "chain.invoke({\"movie\": \"Deadpool\"})"
   ]
  }
 ],
 "metadata": {
  "kernelspec": {
   "display_name": "env",
   "language": "python",
   "name": "python3"
  },
  "language_info": {
   "codemirror_mode": {
    "name": "ipython",
    "version": 3
   },
   "file_extension": ".py",
   "mimetype": "text/x-python",
   "name": "python",
   "nbconvert_exporter": "python",
   "pygments_lexer": "ipython3",
   "version": "3.11.9"
  }
 },
 "nbformat": 4,
 "nbformat_minor": 2
}
