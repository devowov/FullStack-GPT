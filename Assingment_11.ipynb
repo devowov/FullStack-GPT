{
 "cells": [
  {
   "cell_type": "code",
   "execution_count": 15,
   "metadata": {},
   "outputs": [],
   "source": [
    "from langchain.chat_models import ChatOpenAI\n",
    "from langchain.prompts import ChatPromptTemplate,FewShotPromptTemplate\n",
    "from langchain.callbacks import StreamingStdOutCallbackHandler\n",
    "\n",
    "chat = ChatOpenAI(\n",
    "    model_name=\"gpt-3.5-turbo\",\n",
    "    streaming=True,\n",
    "    callbacks=[\n",
    "        StreamingStdOutCallbackHandler(),\n",
    "    ],\n",
    ")"
   ]
  },
  {
   "cell_type": "code",
   "execution_count": 16,
   "metadata": {},
   "outputs": [
    {
     "ename": "NameError",
     "evalue": "name 'FewShotChatMessagePromptTemplate' is not defined",
     "output_type": "error",
     "traceback": [
      "\u001b[1;31m---------------------------------------------------------------------------\u001b[0m",
      "\u001b[1;31mNameError\u001b[0m                                 Traceback (most recent call last)",
      "Cell \u001b[1;32mIn[16], line 37\u001b[0m\n\u001b[0;32m      1\u001b[0m examples \u001b[38;5;241m=\u001b[39m [\n\u001b[0;32m      2\u001b[0m     {\n\u001b[0;32m      3\u001b[0m         \u001b[38;5;124m\"\u001b[39m\u001b[38;5;124mmoive\u001b[39m\u001b[38;5;124m\"\u001b[39m: \u001b[38;5;124m\"\u001b[39m\u001b[38;5;124mWho lived longer, Muhammad Ali or Alan Turing?\u001b[39m\u001b[38;5;124m\"\u001b[39m,\n\u001b[1;32m   (...)\u001b[0m\n\u001b[0;32m     27\u001b[0m     }\n\u001b[0;32m     28\u001b[0m ]\n\u001b[0;32m     30\u001b[0m example_prompt \u001b[38;5;241m=\u001b[39m ChatPromptTemplate\u001b[38;5;241m.\u001b[39mfrom_messages(\n\u001b[0;32m     31\u001b[0m     [\n\u001b[0;32m     32\u001b[0m         (\u001b[38;5;124m\"\u001b[39m\u001b[38;5;124mhuman\u001b[39m\u001b[38;5;124m\"\u001b[39m, \u001b[38;5;124m\"\u001b[39m\u001b[38;5;132;01m{movie}\u001b[39;00m\u001b[38;5;124m에 대한 정보 알려줘\u001b[39m\u001b[38;5;124m\"\u001b[39m)\n\u001b[0;32m     33\u001b[0m         , (\u001b[38;5;124m\"\u001b[39m\u001b[38;5;124msystem\u001b[39m\u001b[38;5;124m\"\u001b[39m, \u001b[38;5;124m\"\u001b[39m\u001b[38;5;132;01m{answer}\u001b[39;00m\u001b[38;5;124m\"\u001b[39m)\n\u001b[0;32m     34\u001b[0m     ]\n\u001b[0;32m     35\u001b[0m )\n\u001b[1;32m---> 37\u001b[0m example_prompt \u001b[38;5;241m=\u001b[39m \u001b[43mFewShotChatMessagePromptTemplate\u001b[49m(\n\u001b[0;32m     38\u001b[0m     example_prompt \u001b[38;5;241m=\u001b[39m example_prompt,\n\u001b[0;32m     39\u001b[0m     examples \u001b[38;5;241m=\u001b[39m examples\n\u001b[0;32m     40\u001b[0m )\n",
      "\u001b[1;31mNameError\u001b[0m: name 'FewShotChatMessagePromptTemplate' is not defined"
     ]
    }
   ],
   "source": [
    "\n",
    "examples = [\n",
    "    {\n",
    "        \"moive\": \"Who lived longer, Muhammad Ali or Alan Turing?\",\n",
    "        \"answer\": \"\"\"\n",
    "    **영화 제목:** Inception\n",
    "    **감독:** Christopher Nolan\n",
    "    **주요 출연진:** Leonardo DiCaprio, Joseph Gordon-Levitt, Ellen Page, Tom Hardy\n",
    "    **예산:** $160 million\n",
    "    **흥행 수익:** $829.9 million\n",
    "    **장르:** Science Fiction, Action, Thriller\n",
    "    **간단한 시놉시스:** \n",
    "    꿈속의 꿈에 들어가 타인의 무의식에 아이디어를 심는 작업을 전문으로 하는 도미닉 코브와 그의 팀이 한 마지막 작업을 성공시키기 위해 벌어지는 이야기를 그린 영화입니다.\n",
    "    \"\"\"\n",
    "    },\n",
    "    {\n",
    "        \"moive\": \"Titanic\",\n",
    "    \"output\": \"\"\"\n",
    "    **영화 제목:** Titanic\n",
    "    **감독:** James Cameron\n",
    "    **주요 출연진:** Leonardo DiCaprio, Kate Winslet, Billy Zane, Kathy Bates\n",
    "    **예산:** $200 million\n",
    "    **흥행 수익:** $2.202 billion\n",
    "    **장르:** Romance, Drama, Disaster\n",
    "    **간단한 시놉시스:** \n",
    "    1912년 타이타닉 호의 침몰을 배경으로, 사회적 신분 차이를 뛰어넘은 두 연인, 잭과 로즈의 비극적인 사랑 이야기를 그린 영화입니다.\n",
    "    \"\"\"\n",
    "    }\n",
    "]\n",
    "\n",
    "example_prompt = ChatPromptTemplate.from_messages(\n",
    "    [\n",
    "        (\"human\", \"{movie}에 대한 정보 알려줘\")\n",
    "        , (\"system\", \"{answer}\")\n",
    "    ]\n",
    ")\n",
    "\n",
    "example_prompt = FewShotChatMessagePromptTemplate(\n",
    "    example_prompt = example_prompt,\n",
    "    examples = examples\n",
    ")\n",
    "\n"
   ]
  },
  {
   "cell_type": "code",
   "execution_count": null,
   "metadata": {},
   "outputs": [],
   "source": [
    "final_prompt = ChatPromptTemplate.from_messages(\n",
    "     (\"system\", \"영화 정보를 많이 알고 있고 물어보면 대답해줘야해\"),\n",
    "     (\"human\", \"{movie}에 대한 정보 알려줘\"),\n",
    ")\n",
    "\n",
    "chain = final_prompt | chat\n",
    "chain.invoke({\"movie\": \"Deadpool\"})"
   ]
  }
 ],
 "metadata": {
  "kernelspec": {
   "display_name": "env",
   "language": "python",
   "name": "python3"
  },
  "language_info": {
   "codemirror_mode": {
    "name": "ipython",
    "version": 3
   },
   "file_extension": ".py",
   "mimetype": "text/x-python",
   "name": "python",
   "nbconvert_exporter": "python",
   "pygments_lexer": "ipython3",
   "version": "3.11.9"
  }
 },
 "nbformat": 4,
 "nbformat_minor": 2
}
