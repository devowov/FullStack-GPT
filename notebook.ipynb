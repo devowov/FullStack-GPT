{
 "cells": [
  {
   "cell_type": "code",
   "execution_count": 1,
   "metadata": {},
   "outputs": [],
   "source": [
    "from langchain.chat_models import ChatOpenAI\n",
    "from langchain.prompts import ChatPromptTemplate\n",
    "from langchain.callbacks import StreamingStdOutCallbackHandler\n",
    "\n",
    "chat = ChatOpenAI(\n",
    "    model_name=\"gpt-3.5-turbo\",\n",
    "    streaming=True,\n",
    "    callbacks=[\n",
    "        StreamingStdOutCallbackHandler(),\n",
    "    ],\n",
    ")"
   ]
  },
  {
   "cell_type": "code",
   "execution_count": 2,
   "metadata": {},
   "outputs": [],
   "source": [
    "poet_prompt = ChatPromptTemplate.from_messages(\n",
    "    [\n",
    "        (\n",
    "            \"system\",\n",
    "            \"You are a world-renowned poet known for your deep understanding of programming languages. Your poems capture the essence and unique characteristics of each language beautifully.\",\n",
    "        ),\n",
    "        (\"human\", \"Write a poem about the {language} programming language.\"),\n",
    "    ]\n",
    ")\n",
    "\n",
    "poet_chain = poet_prompt | chat"
   ]
  },
  {
   "cell_type": "code",
   "execution_count": 3,
   "metadata": {},
   "outputs": [],
   "source": [
    "explainer_prompt = ChatPromptTemplate.from_messages(\n",
    "    [\n",
    "        (\n",
    "            \"system\",\n",
    "            \"You are an expert in poetry analysis. Your task is to explain the meaning, themes, and nuances of any poem in a clear and insightful manner.\",\n",
    "        ),\n",
    "        (\"human\", \"Explain the following poem:\\n\\n{poem}\"),\n",
    "    ]\n",
    ")\n",
    "\n",
    "explainer_chain = explainer_prompt | chat"
   ]
  },
  {
   "cell_type": "code",
   "execution_count": 4,
   "metadata": {},
   "outputs": [
    {
     "name": "stdout",
     "output_type": "stream",
     "text": [
      "In the land of Python, where serpents code,\n",
      "Graceful and sleek, in loops they rode.\n",
      "Indentation reigns, with spaces so pure,\n",
      "Syntax so clean, of that we are sure.\n",
      "\n",
      "With libraries vast, like forests deep,\n",
      "From data science to web, it takes a leap.\n",
      "Pythonic ways, simple and clear,\n",
      "In the world of coding, it shines so dear.\n",
      "\n",
      "Dynamic and strong, yet easy to read,\n",
      "In the hands of a coder, it plants a seed.\n",
      "Guido's creation, a language divine,\n",
      "In the realm of Python, elegance will shine.This poem beautifully captures the essence of Python programming language, drawing parallels between its characteristics and the traits of serpents in a poetic and insightful manner.\n",
      "\n",
      "The poem begins by setting the scene in the \"land of Python,\" likening Python programmers to graceful serpents moving in loops, which is a clever reference to the way Python code is written with indentation and loops. The reference to \"spaces so pure\" and \"syntax so clean\" emphasizes Python's readability and the importance of well-structured code.\n",
      "\n",
      "The mention of \"libraries vast, like forests deep\" highlights the extensive range of libraries available in Python for various applications, from data science to web development, showcasing the versatility and power of the language.\n",
      "\n",
      "The term \"Pythonic ways\" signifies the elegant and straightforward nature of Python coding practices, known for their simplicity and clarity. This simplicity is further emphasized by the description of Python as \"dynamic and strong, yet easy to read,\" pointing to its balance between flexibility and readability.\n",
      "\n",
      "The poem pays homage to Guido van Rossum, the creator of Python, by referring to it as \"Guido's creation, a language divine,\" acknowledging the genius behind the language and its enduring impact on the world of coding.\n",
      "\n",
      "Overall, this poem celebrates Python as a language that embodies elegance, simplicity, and power, making it a beloved choice among programmers for its readability and versatility in various domains of software development."
     ]
    },
    {
     "data": {
      "text/plain": [
       "AIMessageChunk(content='This poem beautifully captures the essence of Python programming language, drawing parallels between its characteristics and the traits of serpents in a poetic and insightful manner.\\n\\nThe poem begins by setting the scene in the \"land of Python,\" likening Python programmers to graceful serpents moving in loops, which is a clever reference to the way Python code is written with indentation and loops. The reference to \"spaces so pure\" and \"syntax so clean\" emphasizes Python\\'s readability and the importance of well-structured code.\\n\\nThe mention of \"libraries vast, like forests deep\" highlights the extensive range of libraries available in Python for various applications, from data science to web development, showcasing the versatility and power of the language.\\n\\nThe term \"Pythonic ways\" signifies the elegant and straightforward nature of Python coding practices, known for their simplicity and clarity. This simplicity is further emphasized by the description of Python as \"dynamic and strong, yet easy to read,\" pointing to its balance between flexibility and readability.\\n\\nThe poem pays homage to Guido van Rossum, the creator of Python, by referring to it as \"Guido\\'s creation, a language divine,\" acknowledging the genius behind the language and its enduring impact on the world of coding.\\n\\nOverall, this poem celebrates Python as a language that embodies elegance, simplicity, and power, making it a beloved choice among programmers for its readability and versatility in various domains of software development.')"
      ]
     },
     "execution_count": 4,
     "metadata": {},
     "output_type": "execute_result"
    }
   ],
   "source": [
    "\n",
    "final_chain = {\"poem\": poet_chain} | explainer_chain\n",
    "\n",
    "final_chain.invoke({\"language\": \"python\"})"
   ]
  }
 ],
 "metadata": {
  "kernelspec": {
   "display_name": "env",
   "language": "python",
   "name": "python3"
  },
  "language_info": {
   "codemirror_mode": {
    "name": "ipython",
    "version": 3
   },
   "file_extension": ".py",
   "mimetype": "text/x-python",
   "name": "python",
   "nbconvert_exporter": "python",
   "pygments_lexer": "ipython3",
   "version": "3.11.9"
  }
 },
 "nbformat": 4,
 "nbformat_minor": 2
}
