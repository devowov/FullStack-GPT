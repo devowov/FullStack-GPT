{
 "cells": [
  {
   "cell_type": "code",
   "execution_count": 10,
   "metadata": {},
   "outputs": [],
   "source": [
    "from typing import Type\n",
    "from langchain.chat_models import ChatOpenAI\n",
    "from langchain.tools import BaseTool\n",
    "from pydantic import BaseModel, Field\n",
    "from langchain.agents import initialize_agent, AgentType\n",
    "from langchain.tools import WikipediaQueryRun, DuckDuckGoSearchRun\n",
    "from langchain.utilities import WikipediaAPIWrapper\n",
    "from langchain.document_loaders import WebBaseLoader\n",
    "\n",
    "llm = ChatOpenAI(\n",
    "    temperature = 0.1\n",
    "    , model=\"gpt-4o-mini-2024-07-18\"\n",
    ")\n"
   ]
  },
  {
   "cell_type": "code",
   "execution_count": 11,
   "metadata": {},
   "outputs": [],
   "source": [
    "\n",
    "# Wikipedia URL 검색 도구\n",
    "class WikipediaUrlSearchToolArgsSchema(BaseModel):\n",
    "    query: str = Field(\n",
    "        description=\"URL을 찾기위한 질의입니다.\"\n",
    "    )\n",
    "\n",
    "class WikipediaUrlSearchTool(BaseTool):\n",
    "    name = \"WikipediaUrlSearchTool\"\n",
    "    description = \"질의를 받아 Wikipedia 검색 결과의 첫 번째 URL을 반환합니다.\"\n",
    "    args_schema: Type[WikipediaUrlSearchToolArgsSchema] = WikipediaUrlSearchToolArgsSchema\n",
    "\n",
    "    def _run(self, query):\n",
    "        wiki = WikipediaQueryRun(api_wrapper=WikipediaAPIWrapper())\n",
    "        return wiki.run(query)"
   ]
  },
  {
   "cell_type": "code",
   "execution_count": 12,
   "metadata": {},
   "outputs": [],
   "source": [
    "class DuckDuckGoUrlSearchToolArgsSchema(BaseModel):\n",
    "    query: str = Field(\n",
    "        description=\"URL을 찾기위한 질의입니다.\"\n",
    "    )\n",
    "\n",
    "class DuckDuckGoUrlSearchTool(BaseTool):\n",
    "    name = \"DuckDuckGoUrlSearchTool\"\n",
    "    description = \"질의를 받아 DuckDuckGo 검색 결과의 첫 번째 URL을 반환합니다.\"\n",
    "    args_schema: Type[DuckDuckGoUrlSearchToolArgsSchema] = DuckDuckGoUrlSearchToolArgsSchema\n",
    "\n",
    "    def _run(self, query):\n",
    "        ddg = DuckDuckGoSearchRun()\n",
    "        return ddg.run(query)"
   ]
  },
  {
   "cell_type": "code",
   "execution_count": 13,
   "metadata": {},
   "outputs": [],
   "source": [
    "# URL 내용 스크래핑 도구\n",
    "class WebResearchToolArgsSchema(BaseModel):\n",
    "    url: str = Field(\n",
    "        description=\"스크래핑할 URL입니다.\"\n",
    "    )\n",
    "\n",
    "class WebResearchTool(BaseTool):\n",
    "    name = \"WebResearchTool\"\n",
    "    description = \"URL에서 텍스트를 로드하여 문서로 반환합니다.\"\n",
    "    args_schema: Type[WebResearchToolArgsSchema] = WebResearchToolArgsSchema\n",
    "\n",
    "    def _run(self, url):\n",
    "        wl = WebBaseLoader(url)\n",
    "        return wl.load()"
   ]
  },
  {
   "cell_type": "code",
   "execution_count": 14,
   "metadata": {},
   "outputs": [],
   "source": [
    "# 결과 파일 저장 도구\n",
    "class SaveFileToolArgsSchema(BaseModel):\n",
    "    doc: str\n",
    "\n",
    "class SaveFileTool(BaseTool):\n",
    "    name = \"SaveFileTool\"\n",
    "    description = \"스크래핑된 문서를 파일로 저장합니다.\"\n",
    "    args_schema: Type[SaveFileToolArgsSchema] = SaveFileToolArgsSchema\n",
    "    def _run(self, doc):\n",
    "        with open('research_doc.txt', 'w', encoding='utf-8') as f:\n",
    "            f.write(doc)\n",
    "        return \"저장 완료\""
   ]
  },
  {
   "cell_type": "code",
   "execution_count": 15,
   "metadata": {},
   "outputs": [
    {
     "data": {
      "text/plain": [
       "{'input': 'Research about the XZ backdoor.',\n",
       " 'output': 'The XZ backdoor refers to a malicious backdoor that was introduced to the Linux utility xz, specifically within the liblzma library, in versions 5.6.0 and 5.6.1. This incident occurred in February 2024 and was attributed to an account using the name \"Jia Tan\". The backdoor allows an attacker who possesses a specific Ed448 private key to execute remote code on affected Linux systems.\\n\\nThis vulnerability has been assigned the Common Vulnerabilities and Exposures (CVE) number CVE-2024-3094 and has been given a CVSS score of 10.0, which is the highest possible score, indicating a critical security issue. At the time of its discovery, the backdoored version had not been widely deployed in production systems but was present in development versions of major Linux distributions.\\n\\nThe backdoor was discovered by software developer Andres Freund, who announced his findings on March 29, 2024.\\n\\nFor more detailed information, you can refer to the [Wikipedia page on XZ Utils backdoor](https://en.wikipedia.org/wiki/XZ_Utils_backdoor).'}"
      ]
     },
     "execution_count": 15,
     "metadata": {},
     "output_type": "execute_result"
    }
   ],
   "source": [
    "# 에이전트 초기화\n",
    "agent = initialize_agent(\n",
    "    llm = llm\n",
    "    , verbose = True\n",
    "    , agent = AgentType.OPENAI_FUNCTIONS\n",
    "    , handle_parsing_errors = True\n",
    "    , tools=[\n",
    "        WikipediaUrlSearchTool()\n",
    "        , DuckDuckGoUrlSearchTool()\n",
    "        , WebResearchTool()\n",
    "        , SaveFileTool()\n",
    "    ]\n",
    ")\n",
    "\n",
    "prompt = \"Research about the XZ backdoor.\"\n",
    "\n",
    "agent.invoke(prompt)"
   ]
  }
 ],
 "metadata": {
  "kernelspec": {
   "display_name": "env",
   "language": "python",
   "name": "python3"
  },
  "language_info": {
   "codemirror_mode": {
    "name": "ipython",
    "version": 3
   },
   "file_extension": ".py",
   "mimetype": "text/x-python",
   "name": "python",
   "nbconvert_exporter": "python",
   "pygments_lexer": "ipython3",
   "version": "3.11.9"
  }
 },
 "nbformat": 4,
 "nbformat_minor": 2
}
