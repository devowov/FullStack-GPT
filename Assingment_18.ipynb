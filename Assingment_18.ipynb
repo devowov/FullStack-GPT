{
 "cells": [
  {
   "cell_type": "code",
   "execution_count": 7,
   "metadata": {},
   "outputs": [],
   "source": [
    "from typing import Type\n",
    "from langchain.chat_models import ChatOpenAI\n",
    "from langchain.tools import BaseTool\n",
    "from pydantic import BaseModel, Field\n",
    "from langchain.agents import initialize_agent, AgentType\n",
    "from langchain.tools import WikipediaQueryRun, DuckDuckGoSearchRun\n",
    "from langchain.utilities import WikipediaAPIWrapper\n",
    "from langchain.document_loaders import WebBaseLoader\n",
    "\n",
    "llm = ChatOpenAI(\n",
    "    temperature = 0.1\n",
    "    , model=\"gpt-4o-mini-2024-07-18\"\n",
    ")\n"
   ]
  },
  {
   "cell_type": "code",
   "execution_count": 8,
   "metadata": {},
   "outputs": [],
   "source": [
    "\n",
    "# Wikipedia URL 검색 도구\n",
    "class WikipediaUrlSearchToolArgsSchema(BaseModel):\n",
    "    query: str = Field(\n",
    "        description=\"URL을 찾기위한 질의입니다.\"\n",
    "    )\n",
    "\n",
    "class WikipediaUrlSearchTool(BaseTool):\n",
    "    name = \"WikipediaUrlSearchTool\"\n",
    "    description = \"질의를 받아 Wikipedia 검색 결과의 첫 번째 URL을 반환합니다.\"\n",
    "    args_schema: Type[WikipediaUrlSearchToolArgsSchema] = WikipediaUrlSearchToolArgsSchema\n",
    "\n",
    "    def _run(self, query):\n",
    "        wiki = WikipediaQueryRun(api_wrapper=WikipediaAPIWrapper())\n",
    "        return wiki.run(query)"
   ]
  },
  {
   "cell_type": "code",
   "execution_count": 9,
   "metadata": {},
   "outputs": [],
   "source": [
    "class DuckDuckGoUrlSearchToolArgsSchema(BaseModel):\n",
    "    query: str = Field(\n",
    "        description=\"URL을 찾기위한 질의입니다.\"\n",
    "    )\n",
    "\n",
    "class DuckDuckGoUrlSearchTool(BaseTool):\n",
    "    name = \"DuckDuckGoUrlSearchTool\"\n",
    "    description = \"질의를 받아 DuckDuckGo 검색 결과의 첫 번째 URL을 반환합니다.\"\n",
    "    args_schema: Type[DuckDuckGoUrlSearchToolArgsSchema] = DuckDuckGoUrlSearchToolArgsSchema\n",
    "\n",
    "    def _run(self, query):\n",
    "        ddg = DuckDuckGoSearchRun()\n",
    "        return ddg.run(query)"
   ]
  },
  {
   "cell_type": "code",
   "execution_count": 10,
   "metadata": {},
   "outputs": [],
   "source": [
    "# URL 내용 스크래핑 도구\n",
    "class WebResearchToolArgsSchema(BaseModel):\n",
    "    url: str = Field(\n",
    "        description=\"스크래핑할 URL입니다.\"\n",
    "    )\n",
    "\n",
    "class WebResearchTool(BaseTool):\n",
    "    name = \"WebResearchTool\"\n",
    "    description = \"URL에서 텍스트를 로드하여 문서로 반환합니다.\"\n",
    "    args_schema: Type[WebResearchToolArgsSchema] = WebResearchToolArgsSchema\n",
    "\n",
    "    def _run(self, url):\n",
    "        wl = WebBaseLoader(url)\n",
    "        return wl.load()"
   ]
  },
  {
   "cell_type": "code",
   "execution_count": 11,
   "metadata": {},
   "outputs": [],
   "source": [
    "# 결과 파일 저장 도구\n",
    "class SaveFileToolArgsSchema(BaseModel):\n",
    "    doc: str\n",
    "\n",
    "class SaveFileTool(BaseTool):\n",
    "    name = \"SaveFileTool\"\n",
    "    description = \"스크래핑된 문서를 파일로 저장합니다.\"\n",
    "    args_schema: Type[SaveFileToolArgsSchema] = SaveFileToolArgsSchema\n",
    "\n",
    "    def _run(self, doc):\n",
    "        with open('research_result.txt', 'w', encoding='utf-8') as f:\n",
    "            f.write(doc)\n",
    "        return \"저장\""
   ]
  },
  {
   "cell_type": "code",
   "execution_count": 13,
   "metadata": {},
   "outputs": [
    {
     "name": "stdout",
     "output_type": "stream",
     "text": [
      "\n",
      "\n",
      "\u001b[1m> Entering new AgentExecutor chain...\u001b[0m\n",
      "\u001b[32;1m\u001b[1;3m\n",
      "Invoking: `WikipediaUrlSearchTool` with `{'query': 'XZ backdoor'}`\n",
      "\n",
      "\n",
      "\u001b[0m\u001b[36;1m\u001b[1;3mPage: XZ Utils backdoor\n",
      "Summary: In February 2024, a malicious backdoor was introduced to the Linux utility xz within the liblzma library in versions 5.6.0 and 5.6.1 by an account using the name \"Jia Tan\". The backdoor gives an attacker who possesses a specific Ed448 private key remote code execution capabilities on the affected Linux system. The issue has been given the Common Vulnerabilities and Exposures number CVE-2024-3094 and has been assigned a CVSS score of 10.0, the highest possible score.\n",
      "While xz is commonly present in most Linux distributions, at the time of discovery the backdoored version had not yet been widely deployed to production systems, but was present in development versions of major distributions. The backdoor was discovered by the software developer Andres Freund, who announced his findings on 29 March 2024.\n",
      "\n",
      "Page: XZ Utils\n",
      "Summary: XZ Utils (previously LZMA Utils) is a set of free software command-line lossless data compressors, including the programs lzma and xz, for Unix-like operating systems and, from version 5.0 onwards, Microsoft Windows. For compression/decompression the Lempel–Ziv–Markov chain algorithm (LZMA) is used. XZ Utils started as a Unix port of Igor Pavlov's LZMA-SDK that has been adapted to fit seamlessly into Unix environments and their usual structure and behavior.\n",
      "\n",
      "Page: Backdoor (computing)\n",
      "Summary: A backdoor is a typically covert method of bypassing normal authentication or encryption in a computer, product, embedded device (e.g. a home router), or its embodiment (e.g. part of a cryptosystem, algorithm, chipset, or even a \"homunculus computer\"—a tiny computer-within-a-computer such as that found in Intel's AMT technology). Backdoors are most often used for securing remote access to a computer, or obtaining access to plaintext in cryptosystems. From there it may be used to gain access to privileged information like passwords, corrupt or delete data on hard drives, or transfer information within autoschediastic networks.\n",
      "A backdoor may take the form of a hidden part of a program, a separate program (e.g. Back Orifice may subvert the system through a rootkit), code in the firmware of the hardware, or parts of an operating system such as Windows. Trojan horses can be used to create vulnerabilities in a device. A Trojan horse may appear to be an entirely legitimate program, but when executed, it triggers an activity that may install a backdoor. Although some are secretly installed, other backdoors are deliberate and widely known. These kinds of backdoors have \"legitimate\" uses such as providing the manufacturer with a way to restore user passwords.\n",
      "Many systems that store information within the cloud fail to create accurate security measures. If many systems are connected within the cloud, hackers can gain access to all other platforms through the most vulnerable system. Default passwords (or other default credentials) can function as backdoors if they are not changed by the user. Some debugging features can also act as backdoors if they are not removed in the release version. In 1993, the United States government attempted to deploy an encryption system, the Clipper chip, with an explicit backdoor for law enforcement and national security access. The chip was unsuccessful.\n",
      "Recent proposals to counter backdoors include creating a database of backdoors' triggers and then using neural networks to detect them.\u001b[0m\u001b[32;1m\u001b[1;3mThe XZ backdoor refers to a malicious backdoor that was introduced to the Linux utility xz, specifically within the liblzma library, in versions 5.6.0 and 5.6.1. This incident occurred in February 2024 and was attributed to an account using the name \"Jia Tan\". The backdoor allows an attacker who possesses a specific Ed448 private key to execute remote code on affected Linux systems.\n",
      "\n",
      "This vulnerability has been assigned the Common Vulnerabilities and Exposures (CVE) number CVE-2024-3094 and has been given a CVSS score of 10.0, which is the highest possible score, indicating a critical security issue. At the time of its discovery, the backdoored version had not been widely deployed in production systems but was present in development versions of major Linux distributions.\n",
      "\n",
      "The backdoor was discovered by software developer Andres Freund, who publicly announced his findings on March 29, 2024.\n",
      "\n",
      "For more detailed information, you can refer to the [Wikipedia page on XZ Utils backdoor](https://en.wikipedia.org/wiki/XZ_Utils_backdoor).\u001b[0m\n",
      "\n",
      "\u001b[1m> Finished chain.\u001b[0m\n"
     ]
    },
    {
     "data": {
      "text/plain": [
       "{'input': 'Research about the XZ backdoor.',\n",
       " 'output': 'The XZ backdoor refers to a malicious backdoor that was introduced to the Linux utility xz, specifically within the liblzma library, in versions 5.6.0 and 5.6.1. This incident occurred in February 2024 and was attributed to an account using the name \"Jia Tan\". The backdoor allows an attacker who possesses a specific Ed448 private key to execute remote code on affected Linux systems.\\n\\nThis vulnerability has been assigned the Common Vulnerabilities and Exposures (CVE) number CVE-2024-3094 and has been given a CVSS score of 10.0, which is the highest possible score, indicating a critical security issue. At the time of its discovery, the backdoored version had not been widely deployed in production systems but was present in development versions of major Linux distributions.\\n\\nThe backdoor was discovered by software developer Andres Freund, who publicly announced his findings on March 29, 2024.\\n\\nFor more detailed information, you can refer to the [Wikipedia page on XZ Utils backdoor](https://en.wikipedia.org/wiki/XZ_Utils_backdoor).'}"
      ]
     },
     "execution_count": 13,
     "metadata": {},
     "output_type": "execute_result"
    }
   ],
   "source": [
    "# 에이전트 초기화\n",
    "agent = initialize_agent(\n",
    "    llm = llm\n",
    "    # , verbose = True # 안쓰면 파일 저장 안댐\n",
    "    , agent = AgentType.OPENAI_FUNCTIONS\n",
    "    , handle_parsing_errors = True\n",
    "    , tools=[\n",
    "        WikipediaUrlSearchTool()\n",
    "        , DuckDuckGoUrlSearchTool()\n",
    "        , WebResearchTool()\n",
    "        , SaveFileTool()\n",
    "    ]\n",
    ")\n",
    "\n",
    "# 에이전트 실행\n",
    "prompt = \"Research about the XZ backdoor.\"\n",
    "\n",
    "agent.invoke(prompt)"
   ]
  }
 ],
 "metadata": {
  "kernelspec": {
   "display_name": "env",
   "language": "python",
   "name": "python3"
  },
  "language_info": {
   "codemirror_mode": {
    "name": "ipython",
    "version": 3
   },
   "file_extension": ".py",
   "mimetype": "text/x-python",
   "name": "python",
   "nbconvert_exporter": "python",
   "pygments_lexer": "ipython3",
   "version": "3.11.9"
  }
 },
 "nbformat": 4,
 "nbformat_minor": 2
}
